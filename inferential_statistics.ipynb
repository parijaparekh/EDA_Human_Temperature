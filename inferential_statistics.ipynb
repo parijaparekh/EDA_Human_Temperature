{
 "cells": [
  {
   "cell_type": "markdown",
   "metadata": {},
   "source": [
    "# What is the True Normal Human Body Temperature? \n",
    "\n",
    "#### Background\n",
    "\n",
    "The mean normal body temperature was held to be 37$^{\\circ}$C or 98.6$^{\\circ}$F for more than 120 years since it was first conceptualized and reported by Carl Wunderlich in a famous 1868 book. But, is this value statistically correct?"
   ]
  },
  {
   "cell_type": "markdown",
   "metadata": {},
   "source": [
    "<h3>Exercises</h3>\n",
    "\n",
    "<p>In this exercise, you will analyze a dataset of human body temperatures and employ the concepts of hypothesis testing, confidence intervals, and statistical significance.</p>\n",
    "\n",
    "<p>Answer the following questions <b>in this notebook below and submit to your Github account</b>.</p> \n",
    "\n",
    "<ol>\n",
    "<li>  Is the distribution of body temperatures normal? \n",
    "    <ul>\n",
    "    <li> Although this is not a requirement for the Central Limit Theorem to hold (read the introduction on Wikipedia's page about the CLT carefully: https://en.wikipedia.org/wiki/Central_limit_theorem), it gives us some peace of mind that the population may also be normally distributed if we assume that this sample is representative of the population.\n",
    "    <li> Think about the way you're going to check for the normality of the distribution. Graphical methods are usually used first, but there are also other ways: https://en.wikipedia.org/wiki/Normality_test\n",
    "    </ul>\n",
    "<li>  Is the sample size large? Are the observations independent?\n",
    "    <ul>\n",
    "    <li> Remember that this is a condition for the Central Limit Theorem, and hence the statistical tests we are using, to apply.\n",
    "    </ul>\n",
    "<li>  Is the true population mean really 98.6 degrees F?\n",
    "    <ul>\n",
    "    <li> First, try a bootstrap hypothesis test.\n",
    "    <li> Now, let's try frequentist statistical testing. Would you use a one-sample or two-sample test? Why?\n",
    "    <li> In this situation, is it appropriate to use the $t$ or $z$ statistic? \n",
    "    <li> Now try using the other test. How is the result be different? Why?\n",
    "    </ul>\n",
    "<li>  Draw a small sample of size 10 from the data and repeat both frequentist tests. \n",
    "    <ul>\n",
    "    <li> Which one is the correct one to use? \n",
    "    <li> What do you notice? What does this tell you about the difference in application of the $t$ and $z$ statistic?\n",
    "    </ul>\n",
    "<li>  At what temperature should we consider someone's temperature to be \"abnormal\"?\n",
    "    <ul>\n",
    "    <li> As in the previous example, try calculating everything using the boostrap approach, as well as the frequentist approach.\n",
    "    <li> Start by computing the margin of error and confidence interval. When calculating the confidence interval, keep in mind that you should use the appropriate formula for one draw, and not N draws.\n",
    "    </ul>\n",
    "<li>  Is there a significant difference between males and females in normal temperature?\n",
    "    <ul>\n",
    "    <li> What testing approach did you use and why?\n",
    "    <li> Write a story with your conclusion in the context of the original problem.\n",
    "    </ul>\n",
    "</ol>\n",
    "\n",
    "You can include written notes in notebook cells using Markdown: \n",
    "   - In the control panel at the top, choose Cell > Cell Type > Markdown\n",
    "   - Markdown syntax: http://nestacms.com/docs/creating-content/markdown-cheat-sheet\n",
    "\n",
    "#### Resources\n",
    "\n",
    "+ Information and data sources: http://www.amstat.org/publications/jse/datasets/normtemp.txt, http://www.amstat.org/publications/jse/jse_data_archive.htm\n",
    "+ Markdown syntax: http://nestacms.com/docs/creating-content/markdown-cheat-sheet\n",
    "\n",
    "****"
   ]
  },
  {
   "cell_type": "code",
   "execution_count": 2,
   "metadata": {},
   "outputs": [
    {
     "name": "stdout",
     "output_type": "stream",
     "text": [
      "Index(['temperature', 'gender', 'heart_rate'], dtype='object')\n",
      "(130, 3)\n"
     ]
    }
   ],
   "source": [
    "import pandas as pd\n",
    "import numpy as np\n",
    "import seaborn as sns \n",
    "import matplotlib.pyplot as plt\n",
    "\n",
    "\n",
    "df = pd.read_csv('data/human_body_temperature.csv')\n",
    "print(df.columns)\n",
    "print(df.shape)"
   ]
  },
  {
   "cell_type": "markdown",
   "metadata": {
    "collapsed": true
   },
   "source": [
    "Q1: Is the distribution of body temperatures normal?\n",
    "    To prove data is normally distrubuted: \n",
    "    ++ Get mean and STD from the data set\n",
    "    ++ Get a sample of normal distribution using this mean and median value \n",
    "    ++ plot the theorotical CDF and Empirical CDF\n",
    "    ++ If both the graphs overlay then the distribution is normal. "
   ]
  },
  {
   "cell_type": "code",
   "execution_count": 2,
   "metadata": {},
   "outputs": [
    {
     "data": {
      "image/png": "[encoded data removed]",
      "text/plain": [
       "<Figure size 432x288 with 1 Axes>"
      ]
     },
     "metadata": {},
     "output_type": "display_data"
    }
   ],
   "source": [
    "def ecdf(data):\n",
    "    #Compute ECDF for a one-dimensional array of measurements.\n",
    "    # Number of data points: n\n",
    "    n = len(data)   \n",
    "    # x-data for the ECDF: x\n",
    "    x = np.sort(data)\n",
    "    # y-data for the ECDF: y\n",
    "    y = np.arange(1,n+1) / n \n",
    "    return x, y\n",
    "\n",
    "\n",
    "temp_nd_samples = np.random.normal(df['temperature'].mean(), \n",
    "                                 df['temperature'].std(),  \n",
    "                                 10000)\n",
    "\n",
    "x, y = ecdf(temp_nd_samples)\n",
    "x_theor, y_theor = ecdf(df['temperature'])\n",
    "sns.set()\n",
    "_ = plt.plot(x,y,marker='.',linestyle='none',color='blue')\n",
    "_ = plt.plot(x_theor, y_theor, marker='.', linestyle='none', color='green')\n",
    "plt.xlabel('Temperature (degree F) ')\n",
    "plt.ylabel('CDF')\n",
    "plt.show()"
   ]
  },
  {
   "cell_type": "markdown",
   "metadata": {},
   "source": [
    "The ECDF and CDF overlap. Hence the distribution seems to be normal."
   ]
  },
  {
   "cell_type": "markdown",
   "metadata": {},
   "source": [
    "Q1/2: Is the sample size large? Are the observations independent?\n",
    "Remember that this is a condition for the Central Limit Theorem, \n",
    "and hence the statistical tests we are using, to apply. "
   ]
  },
  {
   "cell_type": "code",
   "execution_count": 69,
   "metadata": {},
   "outputs": [
    {
     "data": {
      "image/png": "[encoded data removed]",
      "text/plain": [
       "<Figure size 432x288 with 1 Axes>"
      ]
     },
     "metadata": {},
     "output_type": "display_data"
    },
    {
     "name": "stdout",
     "output_type": "stream",
     "text": [
      "98.24923076923075\n"
     ]
    }
   ],
   "source": [
    "## Just to get an idea of data distribution\n",
    "sns.set()\n",
    "_  = plt.hist(df['temperature'],bins=5)\n",
    "plt.show()\n",
    "print(df['temperature'].mean())"
   ]
  },
  {
   "cell_type": "code",
   "execution_count": 59,
   "metadata": {
    "scrolled": true
   },
   "outputs": [
    {
     "data": {
      "image/png": "[encoded data removed]",
      "text/plain": [
       "<Figure size 648x216 with 3 Axes>"
      ]
     },
     "metadata": {},
     "output_type": "display_data"
    }
   ],
   "source": [
    "## To understand the interdependancy across various parameters \n",
    "\n",
    "fig, axs = plt.subplots(ncols= 3, figsize=(9,3), constrained_layout=True)\n",
    "# merging ax1 and ax2 into 1 \n",
    "\n",
    "axs[0].scatter(df['gender'], df['heart_rate'])\n",
    "axs[0].set(title='Gender vs Heart Rate', xlabel = 'Gender', ylabel = 'Heart Rate')\n",
    "\n",
    "axs[1].scatter(df['gender'], df['temperature'])\n",
    "axs[1].set(title='Temperature vs Gender', xlabel = 'Gender', ylabel = 'Temperature')\n",
    "\n",
    "axs[2].scatter(df['heart_rate'], df['temperature'])\n",
    "axs[2].set(title='Temperature vs Heart Rate', xlabel = 'Heart Rate', ylabel = 'Temperature')\n",
    "\n",
    "plt.show()\n",
    "    "
   ]
  },
  {
   "cell_type": "markdown",
   "metadata": {},
   "source": [
    "As we can observe in the subplots above, there seems to be no correlation between any of the three parameters. To further verify this claim, we calculate the correlation co-efficient amongst these parameters. We shall calculate the pearson correlation cofficient. "
   ]
  },
  {
   "cell_type": "code",
   "execution_count": 29,
   "metadata": {
    "scrolled": true
   },
   "outputs": [
    {
     "name": "stdout",
     "output_type": "stream",
     "text": [
      "0.2536564027207642 0.05576622060537703 0.19800622214525376\n"
     ]
    }
   ],
   "source": [
    "def pearson_r(x,y):\n",
    "    corr_mat = np.corrcoef(x,y)\n",
    "    return corr_mat[0,1]\n",
    "\n",
    "gender_data = (df['gender'] == 'F').astype(int)\n",
    "pearson_r_gender_hr = pearson_r(gender_data, df['heart_rate'])\n",
    "pearson_r_gender_temp = pearson_r(gender_data, df['temperature'])\n",
    "pearson_r_hr_temp = pearson_r(df['heart_rate'], df['temperature'])\n",
    "print(pearson_r_hr_temp, pearson_r_gender_hr, pearson_r_gender_temp)"
   ]
  },
  {
   "cell_type": "markdown",
   "metadata": {},
   "source": [
    "As listed above the pearson correlation co-efficients across all these three parameters are below 0.3 hence it proves that they are weakly co-rrelated. "
   ]
  },
  {
   "cell_type": "markdown",
   "metadata": {},
   "source": [
    "Q2: Determining whether the size of sample is large enough or not ? \n",
    "We shall  check the standard error of the mean to determine the value of n.\n",
    "Assuming a sample size of 100, we get a standard error of mean around 0.0733 which is a good estimate to say that the sample size(n=130) is large enough (Calculation Below)"
   ]
  },
  {
   "cell_type": "code",
   "execution_count": 80,
   "metadata": {},
   "outputs": [
    {
     "name": "stdout",
     "output_type": "stream",
     "text": [
      "[0.07331832]\n"
     ]
    }
   ],
   "source": [
    "# calculation for standard error of mean\n",
    "print(df['temperature'].std()/np.sqrt([100]))"
   ]
  },
  {
   "cell_type": "markdown",
   "metadata": {},
   "source": [
    "Q3: Is the true population mean really 98.6 degrees F?\n",
    "\n",
    "Null Hypothesis: \"Population mean not equal to 98.6 degrees F\"\n",
    "++ Do bootstrapping with test statistic being \"difference in sample mean and 98.6\"\n",
    "++ p-value calculation: np.sum(bs_replicates <= 98.6)/len(bs_replicates)\n",
    "(Procedure Below)\n",
    "\n",
    "Would you use a one-sample or two-sample test? Why?\n",
    "One-sample test since we are comparing the sample mean to a population mean wherein we only have the sample data.\n",
    "\n",
    "In this situation, is it appropriate to use the  t or  z statistic?\n",
    "We shall use the z-statistic since the sample size is large enough. \n",
    "As per theory, t-statistic should be used for sample size of less than 30  \n",
    "Now try using the other test. How is the result be different? Why?\n",
    "(Calculations Below)"
   ]
  },
  {
   "cell_type": "code",
   "execution_count": 31,
   "metadata": {},
   "outputs": [
    {
     "name": "stdout",
     "output_type": "stream",
     "text": [
      "P value: 0.0\n"
     ]
    },
    {
     "data": {
      "image/png": "[encoded data removed]",
      "text/plain": [
       "<Figure size 432x288 with 1 Axes>"
      ]
     },
     "metadata": {},
     "output_type": "display_data"
    }
   ],
   "source": [
    "# Bootstrap hypothesis test\n",
    "# Null Hypothesis: True population mean for human body temperature is not 98.6 degree F\n",
    "# Alternate Hypothesis: True population mean for human body temperature is 98.6 degree F\n",
    "# we only have one data set and a mean value to compare with\n",
    "# test statistic will be difference in the  sample mean and population mean(98.6) of 98.6 \n",
    "# For p value calulation: since sample mean(98.2) is < population mean(98.6) we will use \n",
    "# less than equal to <=\n",
    "def draw_bs_replicates(data, func, size=1, sample_size= -1):    \n",
    "    \n",
    "    bs_replicates = np.empty(size)\n",
    "    if sample_size == -1:\n",
    "        sample_size = len(data)\n",
    "    for i in range(size):\n",
    "        #Generate sample\n",
    "        bs = np.random.choice(data, sample_size)\n",
    "        bs_replicates[i] = func(bs)\n",
    "   \n",
    "    return bs_replicates\n",
    "\n",
    "expected_mean = 98.6\n",
    "# we shall prepare the required sample by adjusting the mean.\n",
    "shifted_sample = df['temperature'] - df['temperature'].mean() + expected_mean\n",
    "bs_replicates = draw_bs_replicates(shifted_sample, np.mean, 10000)\n",
    "bs_replicates = bs_replicates - 98.6\n",
    "# p value\n",
    "p = np.sum(bs_replicates <= (df['temperature'].mean() - 98.6))/len(bs_replicates)\n",
    "print(\"P value:\", p)\n",
    "_ = plt.hist(bs_replicates, bins=10, density=True)\n",
    "zplt.show()    "
   ]
  },
  {
   "cell_type": "markdown",
   "metadata": {},
   "source": [
    "The histogram indicates that the difference between the means for ever given sample is a very small +ve number. \n",
    "Hence the p value is 0.0 \n",
    "Thus the Null Hypothesis is not True. Hence the Alternate Hypothesis \n",
    "that the population mean for body temperature is 98.6 is \n",
    "justified"
   ]
  },
  {
   "cell_type": "code",
   "execution_count": 38,
   "metadata": {},
   "outputs": [
    {
     "name": "stdout",
     "output_type": "stream",
     "text": [
      "0.47841965124710734\n"
     ]
    }
   ],
   "source": [
    "#Calculating it by z-test \n",
    "z = (98.6 - df['temperature'].mean())/df['temperature'].std()\n",
    "print(z)"
   ]
  },
  {
   "cell_type": "markdown",
   "metadata": {},
   "source": [
    "The p-value is 0.6808 hence the null hypothesis that the body temperature is not equal to 98.6 is justified by frequentist testing.\n",
    "\n",
    "The results obtained from bootstrapping technique seem to be more reliable. As we are sure that the distribution of means of the samples of the sample is always normally distributed as per the central limit theorem. "
   ]
  },
  {
   "cell_type": "markdown",
   "metadata": {},
   "source": [
    "Q4: Draw a small sample of size 10 from the data and repeat both frequentist tests.\n",
    "Which one is the correct one to use?\n",
    "What do you notice? What does this tell you about the difference in application of the t and z statistic?"
   ]
  },
  {
   "cell_type": "code",
   "execution_count": 35,
   "metadata": {},
   "outputs": [
    {
     "name": "stdout",
     "output_type": "stream",
     "text": [
      "Ttest_1sampResult(statistic=-2.8760620973013546, pvalue=0.01829504136959133)\n"
     ]
    }
   ],
   "source": [
    "from scipy import stats\n",
    "\n",
    "t_sample = np.random.choice(df['temperature'], 10)\n",
    "print(stats.ttest_1samp(t_sample,98.6))\n",
    "#Ttest_1sampResult(statistic=-2.8760620973013546, pvalue=0.01829504136959133)"
   ]
  },
  {
   "cell_type": "code",
   "execution_count": 37,
   "metadata": {},
   "outputs": [
    {
     "name": "stdout",
     "output_type": "stream",
     "text": [
      "0.9586873657671181\n"
     ]
    }
   ],
   "source": [
    "#Calculating the z-score\n",
    "\n",
    "z = (98.6 - t_sample.mean())/t_sample.std()\n",
    "print(z)"
   ]
  },
  {
   "cell_type": "markdown",
   "metadata": {},
   "source": [
    "z = 0.9586873657671181\n",
    "Hence after refering to the p-table we get p(z > 0.96) = 0.8315.\n",
    "The p-value obtained from t-test is 0.0183\n",
    "The p-value we get in both the cases is different. \n",
    "According to t-test the alternate hypothesis: \n",
    "\"The population mean of Body temperature is 98.6\" is justified.\n",
    "But According to z-test the null hypothesis is justified i.e. the population mean is not equal to 98.6\n",
    "Based on the sample size of 10, t-test is the one which should be used in this case. "
   ]
  },
  {
   "cell_type": "markdown",
   "metadata": {},
   "source": [
    "Q5: At what temperature should we consider someone's temperature to be \"abnormal\"?As in the previous example, try calculating everything using the boostrap approach, as well as the frequentist approach.\n",
    "Start by computing the margin of error and confidence interval. \n",
    "When calculating the confidence interval, keep in mind that you should use the appropriate formula for one draw, and not N draws.\n",
    "\n",
    "Based on 95% confidence interval of the bootstraps sample, any temperature < 98.12 and  > 98.38 is considered abnormal.(Calculations below)"
   ]
  },
  {
   "cell_type": "code",
   "execution_count": 35,
   "metadata": {},
   "outputs": [
    {
     "name": "stdout",
     "output_type": "stream",
     "text": [
      "[98.11459615 98.37846154]\n"
     ]
    }
   ],
   "source": [
    "# Doing the Computations by bootstrapping:\n",
    "bs_replicates = draw_bs_replicates(df['temperature'], np.mean, 1000)\n",
    "percentiles = np.percentile(bs_replicates, [2.5,97.5])\n",
    "print(percentiles)"
   ]
  },
  {
   "cell_type": "code",
   "execution_count": 40,
   "metadata": {},
   "outputs": [
    {
     "name": "stdout",
     "output_type": "stream",
     "text": [
      "0.1260366570022664\n"
     ]
    }
   ],
   "source": [
    "#Margin of Error: Assuming a 95% confidence \n",
    "MOE = 1.96*df['temperature'].std()/np.sqrt(130)\n",
    "print(MOE)"
   ]
  },
  {
   "cell_type": "markdown",
   "metadata": {},
   "source": [
    "Q6:Is there a significant difference between males and females in normal temperature?\n",
    "What testing approach did you use and why?\n",
    "Write a story with your conclusion in the context of the original problem."
   ]
  },
  {
   "cell_type": "code",
   "execution_count": 128,
   "metadata": {},
   "outputs": [
    {
     "name": "stdout",
     "output_type": "stream",
     "text": [
      "0.8572\n"
     ]
    }
   ],
   "source": [
    "# Null Hypothesis: There is no significant differenece between Male and Female  \n",
    "#                  temperatures. \n",
    "# We use permuattion based replicates\n",
    "def mean_difference(data_1, data_2):\n",
    "    return data_1.mean() - data_2.mean()\n",
    "\n",
    "\n",
    "def draw_perm_replicates(data_1, data_2, func, size=1):\n",
    "    \n",
    "    data = np.concatenate([data_1, data_2])\n",
    "    perm_replicates = np.empty(size)\n",
    "    \n",
    "    for i in range(size):\n",
    "        perm_data = np.random.permutation(data)\n",
    "        x = perm_data[:len(data_1)]\n",
    "        y = perm_data[len(data_1):]\n",
    "        perm_replicates[i] = func(x, y)\n",
    "    \n",
    "    return perm_replicates\n",
    "        \n",
    "                \n",
    "males = df[df['gender'] == 'M']['temperature']\n",
    "females = df[df['gender'] == 'F']['temperature']\n",
    "\n",
    "perm_replicates = draw_perm_replicates(males, females, mean_difference, 10000)\n",
    "mean_diff = mean_difference(males, females)\n",
    "\n",
    "p = np.sum(perm_replicates >= mean_diff)/len(perm_replicates)\n",
    "print(p)\n",
    "\n"
   ]
  },
  {
   "cell_type": "markdown",
   "metadata": {},
   "source": [
    "Since the p value is significant it indicates that the null hypothesis is true. \n",
    "Hence male and female temperature distrubutions are identical. "
   ]
  }
 ],
 "metadata": {
  "kernelspec": {
   "display_name": "Python 3",
   "language": "python",
   "name": "python3"
  },
  "language_info": {
   "codemirror_mode": {
    "name": "ipython",
    "version": 3
   },
   "file_extension": ".py",
   "mimetype": "text/x-python",
   "name": "python",
   "nbconvert_exporter": "python",
   "pygments_lexer": "ipython3",
   "version": "3.5.3"
  }
 },
 "nbformat": 4,
 "nbformat_minor": 1
}
